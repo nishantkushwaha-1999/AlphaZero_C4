{
 "cells": [
  {
   "cell_type": "markdown",
   "metadata": {},
   "source": [
    "# Play Connect4"
   ]
  },
  {
   "cell_type": "code",
   "execution_count": 8,
   "metadata": {},
   "outputs": [],
   "source": [
    "from AlphaZero.monte_carlo_tree_search import MCTS\n",
    "from AlphaZero.AlphaZero import AlphaZero\n",
    "from GameEnvironments.C4 import Game_C4\n",
    "import numpy as np\n",
    "from IPython.display import clear_output"
   ]
  },
  {
   "cell_type": "code",
   "execution_count": 9,
   "metadata": {},
   "outputs": [
    {
     "ename": "IndexError",
     "evalue": "list index out of range",
     "output_type": "error",
     "traceback": [
      "\u001b[0;31m---------------------------------------------------------------------------\u001b[0m",
      "\u001b[0;31mIndexError\u001b[0m                                Traceback (most recent call last)",
      "Cell \u001b[0;32mIn[9], line 13\u001b[0m\n\u001b[1;32m      4\u001b[0m player_params \u001b[38;5;241m=\u001b[39m {\n\u001b[1;32m      5\u001b[0m     \u001b[38;5;124m\"\u001b[39m\u001b[38;5;124mC\u001b[39m\u001b[38;5;124m\"\u001b[39m: \u001b[38;5;241m3\u001b[39m,\n\u001b[1;32m      6\u001b[0m     \u001b[38;5;124m\"\u001b[39m\u001b[38;5;124mnum_searches\u001b[39m\u001b[38;5;124m\"\u001b[39m: \u001b[38;5;241m600\u001b[39m,\n\u001b[1;32m      7\u001b[0m     \u001b[38;5;124m\"\u001b[39m\u001b[38;5;124mdirichlet_epsilon\u001b[39m\u001b[38;5;124m\"\u001b[39m: \u001b[38;5;241m0.0\u001b[39m,\n\u001b[1;32m      8\u001b[0m     \u001b[38;5;124m\"\u001b[39m\u001b[38;5;124mdirichlet_alpha\u001b[39m\u001b[38;5;124m\"\u001b[39m: \u001b[38;5;241m0.71\u001b[39m\n\u001b[1;32m      9\u001b[0m }\n\u001b[1;32m     11\u001b[0m alphazero \u001b[38;5;241m=\u001b[39m AlphaZero()\n\u001b[0;32m---> 13\u001b[0m model \u001b[38;5;241m=\u001b[39m \u001b[43malphazero\u001b[49m\u001b[38;5;241;43m.\u001b[39;49m\u001b[43mload_and_resume\u001b[49m\u001b[43m(\u001b[49m\u001b[43mgame_c4\u001b[49m\u001b[43m,\u001b[49m\u001b[43m \u001b[49m\u001b[38;5;124;43m\"\u001b[39;49m\u001b[38;5;124;43m/Volumes/Storage/Git Repos/AlphaZero_C4/saved_models\u001b[39;49m\u001b[38;5;124;43m\"\u001b[39;49m\u001b[43m)\u001b[49m\n\u001b[1;32m     14\u001b[0m model\u001b[38;5;241m.\u001b[39meval()\n\u001b[1;32m     16\u001b[0m mcts \u001b[38;5;241m=\u001b[39m MCTS(game_c4, player_params, model)\n",
      "File \u001b[0;32m/Volumes/Storage/Git Repos/AlphaZero_C4/AlphaZero/AlphaZero.py:202\u001b[0m, in \u001b[0;36mAlphaZero.load_and_resume\u001b[0;34m(self, game_env, path, train)\u001b[0m\n\u001b[1;32m    199\u001b[0m device \u001b[38;5;241m=\u001b[39m torch\u001b[38;5;241m.\u001b[39mdevice(\u001b[38;5;124m\"\u001b[39m\u001b[38;5;124mcuda\u001b[39m\u001b[38;5;124m\"\u001b[39m \u001b[38;5;28;01mif\u001b[39;00m torch\u001b[38;5;241m.\u001b[39mcuda\u001b[38;5;241m.\u001b[39mis_available() \u001b[38;5;28;01melse\u001b[39;00m \u001b[38;5;124m\"\u001b[39m\u001b[38;5;124mcpu\u001b[39m\u001b[38;5;124m\"\u001b[39m)\n\u001b[1;32m    201\u001b[0m arg_files \u001b[38;5;241m=\u001b[39m glob\u001b[38;5;241m.\u001b[39mglob(\u001b[38;5;124mf\u001b[39m\u001b[38;5;124m\"\u001b[39m\u001b[38;5;132;01m{\u001b[39;00mpath\u001b[38;5;132;01m}\u001b[39;00m\u001b[38;5;124m/*.json\u001b[39m\u001b[38;5;124m\"\u001b[39m)\n\u001b[0;32m--> 202\u001b[0m \u001b[38;5;28;01mwith\u001b[39;00m \u001b[38;5;28mopen\u001b[39m(\u001b[43marg_files\u001b[49m\u001b[43m[\u001b[49m\u001b[38;5;241;43m0\u001b[39;49m\u001b[43m]\u001b[49m, \u001b[38;5;124m'\u001b[39m\u001b[38;5;124mr\u001b[39m\u001b[38;5;124m'\u001b[39m) \u001b[38;5;28;01mas\u001b[39;00m fp:\n\u001b[1;32m    203\u001b[0m     args \u001b[38;5;241m=\u001b[39m json\u001b[38;5;241m.\u001b[39mloads(fp\u001b[38;5;241m.\u001b[39mread())\n\u001b[1;32m    205\u001b[0m model \u001b[38;5;241m=\u001b[39m ResNet_C4(\n\u001b[1;32m    206\u001b[0m     board_dim\u001b[38;5;241m=\u001b[39margs[\u001b[38;5;124m'\u001b[39m\u001b[38;5;124mboard_dim\u001b[39m\u001b[38;5;124m'\u001b[39m],\n\u001b[1;32m    207\u001b[0m     n_actions\u001b[38;5;241m=\u001b[39margs[\u001b[38;5;124m'\u001b[39m\u001b[38;5;124mn_actions\u001b[39m\u001b[38;5;124m'\u001b[39m],\n\u001b[0;32m   (...)\u001b[0m\n\u001b[1;32m    210\u001b[0m     device\u001b[38;5;241m=\u001b[39mdevice\n\u001b[1;32m    211\u001b[0m )\n",
      "\u001b[0;31mIndexError\u001b[0m: list index out of range"
     ]
    }
   ],
   "source": [
    "game_c4 = Game_C4()\n",
    "player = 1\n",
    "\n",
    "player_params = {\n",
    "    \"C\": 3,\n",
    "    \"num_searches\": 600,\n",
    "    \"dirichlet_epsilon\": 0.0,\n",
    "    \"dirichlet_alpha\": 0.71\n",
    "}\n",
    "\n",
    "alphazero = AlphaZero()\n",
    "\n",
    "model = alphazero.load_and_resume(game_c4, \"/Volumes/Storage/Git Repos/AlphaZero_C4/saved_models\")\n",
    "model.eval()\n",
    "\n",
    "mcts = MCTS(game_c4, player_params, model)\n",
    "state = game_c4.initialize()\n",
    "\n",
    "while True:\n",
    "    display(game_c4.render_state(state, player))\n",
    "    if player == 1:\n",
    "        valid_moves = game_c4.get_valid_moves(state, player)\n",
    "        print(\"valid_moves\", [i for i in range(game_c4.action_size) if valid_moves[i] == 1])\n",
    "        action = int(input(f\"{player}:\"))\n",
    "        player_name = \"player\"\n",
    "            \n",
    "    else:\n",
    "        flipped_state = game_c4.change_perspective(state, player)\n",
    "        mcts_probs = mcts.search(flipped_state, player)\n",
    "        action = np.argmax(mcts_probs)\n",
    "        player_name = \"bot\"\n",
    "        \n",
    "    print(action)\n",
    "    state = game_c4.get_next_state(state, action, player)\n",
    "    \n",
    "    value, is_terminal = game_c4.get_value_and_terminated(state, action, player)\n",
    "    \n",
    "    if is_terminal:\n",
    "        clear_output()\n",
    "        display(game_c4.render_state(state, player))\n",
    "        if value == 1:\n",
    "            print(player, \"won\")\n",
    "        else:\n",
    "            print(\"draw\")\n",
    "        break\n",
    "        \n",
    "    player = game_c4.get_opponent(player)\n",
    "    clear_output()\n",
    "    print(\"Last Play:\")\n",
    "    print(\"Player:\", player_name, \"Action:\", action)"
   ]
  },
  {
   "cell_type": "code",
   "execution_count": null,
   "metadata": {},
   "outputs": [
    {
     "data": {
      "image/png": "[encoded data removed]",
      "text/plain": [
       "<PIL.Image.Image image mode=RGB size=525x450>"
      ]
     },
     "metadata": {},
     "output_type": "display_data"
    },
    {
     "name": "stdout",
     "output_type": "stream",
     "text": [
      "[0.     0.0804 0.046  0.0213 0.733  0.0133 0.042  0.     0.     0.0177\n",
      " 0.     0.     0.0309 0.0154]\n",
      "4\n"
     ]
    },
    {
     "data": {
      "image/png": "[encoded data removed]",
      "text/plain": [
       "<PIL.Image.Image image mode=RGB size=525x450>"
      ]
     },
     "metadata": {},
     "output_type": "display_data"
    },
    {
     "data": {
      "text/plain": [
       "(0, False)"
      ]
     },
     "execution_count": 2,
     "metadata": {},
     "output_type": "execute_result"
    }
   ],
   "source": [
    "game_c4 = Game_C4()\n",
    "player = -1\n",
    "\n",
    "player_params = {\n",
    "    \"C\": 4,\n",
    "    \"num_searches\": 10000,\n",
    "    \"dirichlet_epsilon\": 0.0,\n",
    "    \"dirichlet_alpha\": 0.71\n",
    "}\n",
    "\n",
    "alphazero = AlphaZero()\n",
    "\n",
    "model = alphazero.load_and_resume(game_c4, \"/Volumes/Storage/Git Repos/AlphaZero_C4/saved_models/\")\n",
    "model.eval()\n",
    "\n",
    "mcts = MCTS(game_c4, player_params, model)\n",
    "state = np.array([[-1, 0, 0, 0, 0, 0, 0],\n",
    "                  [-1, 0, 0, 0, 0, 0, 0],\n",
    "                  [1, 0, 0, 0, 0, 0, 0],\n",
    "                  [-1, 1, 0, 1, 0, 0, 0],\n",
    "                  [-1, 1, -1, -1, 1, 0, 0],\n",
    "                  [-1, -1, 1, -1, 1, 1, 1],])\n",
    "display(game_c4.render_state(state, player))\n",
    "\n",
    "flipped_state = game_c4.change_perspective(state, player)\n",
    "mcts_probs = mcts.search(flipped_state, player)\n",
    "print(mcts_probs)\n",
    "action = np.argmax(mcts_probs)\n",
    "print(action)\n",
    "\n",
    "state = game_c4.get_next_state(state, action, player)\n",
    "display(game_c4.render_state(state, player))\n",
    "game_c4.get_value_and_terminated(state, action, player)"
   ]
  },
  {
   "cell_type": "code",
   "execution_count": 4,
   "metadata": {},
   "outputs": [],
   "source": [
    "def get_encoded_state(state):\n",
    "    encoded_state = np.stack(\n",
    "        (state == -1, state == 0, state == 1)\n",
    "    ).astype(np.float32)\n",
    "    \n",
    "    if len(state.shape) == 3:\n",
    "        encoded_state = np.swapaxes(encoded_state, 0, 1)\n",
    "    \n",
    "    return encoded_state"
   ]
  },
  {
   "cell_type": "code",
   "execution_count": 7,
   "metadata": {},
   "outputs": [
    {
     "data": {
      "text/plain": [
       "array([[[0., 0., 0., 0., 0., 0., 0.],\n",
       "        [0., 0., 0., 0., 0., 0., 0.],\n",
       "        [0., 0., 0., 0., 0., 0., 0.],\n",
       "        [0., 0., 0., 0., 0., 0., 0.],\n",
       "        [0., 0., 0., 0., 0., 0., 0.],\n",
       "        [0., 0., 0., 0., 0., 0., 0.]],\n",
       "\n",
       "       [[1., 1., 1., 1., 1., 1., 1.],\n",
       "        [1., 1., 1., 1., 1., 1., 1.],\n",
       "        [1., 1., 1., 1., 1., 1., 1.],\n",
       "        [1., 1., 1., 1., 1., 1., 1.],\n",
       "        [1., 1., 1., 1., 1., 1., 1.],\n",
       "        [1., 1., 1., 1., 1., 1., 1.]],\n",
       "\n",
       "       [[0., 0., 0., 0., 0., 0., 0.],\n",
       "        [0., 0., 0., 0., 0., 0., 0.],\n",
       "        [0., 0., 0., 0., 0., 0., 0.],\n",
       "        [0., 0., 0., 0., 0., 0., 0.],\n",
       "        [0., 0., 0., 0., 0., 0., 0.],\n",
       "        [0., 0., 0., 0., 0., 0., 0.]]], dtype=float32)"
      ]
     },
     "execution_count": 7,
     "metadata": {},
     "output_type": "execute_result"
    }
   ],
   "source": [
    "import numpy as np\n",
    "get_encoded_state(np.zeros((6,7)))"
   ]
  },
  {
   "cell_type": "code",
   "execution_count": null,
   "metadata": {},
   "outputs": [],
   "source": []
  }
 ],
 "metadata": {
  "kernelspec": {
   "display_name": "Python 3",
   "language": "python",
   "name": "python3"
  },
  "language_info": {
   "codemirror_mode": {
    "name": "ipython",
    "version": 3
   },
   "file_extension": ".py",
   "mimetype": "text/x-python",
   "name": "python",
   "nbconvert_exporter": "python",
   "pygments_lexer": "ipython3",
   "version": "3.10.11"
  }
 },
 "nbformat": 4,
 "nbformat_minor": 2
}
