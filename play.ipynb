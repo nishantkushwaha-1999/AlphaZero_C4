{
 "cells": [
  {
   "cell_type": "markdown",
   "metadata": {},
   "source": [
    "# Play Connect4"
   ]
  },
  {
   "cell_type": "code",
   "execution_count": 1,
   "metadata": {},
   "outputs": [
    {
     "name": "stdout",
     "output_type": "stream",
     "text": [
      "Cloning into 'AlphaZero_C4'...\n",
      "remote: Enumerating objects: 213, done.\u001b[K\n",
      "remote: Counting objects: 100% (213/213), done.\u001b[K\n",
      "^Cmote: Compressing objects:  16% (21/127)\u001b[K\n",
      "fetch-pack: unexpected disconnect while reading sideband packet\n",
      "Requirement already satisfied: torchinfo in /Library/Frameworks/Python.framework/Versions/3.10/lib/python3.10/site-packages (1.8.0)\n",
      "Requirement already satisfied: pygame in /Library/Frameworks/Python.framework/Versions/3.10/lib/python3.10/site-packages (2.5.2)\n"
     ]
    }
   ],
   "source": [
    "!git clone https://github.com/nishantkushwaha-1999/AlphaZero_C4.git\n",
    "!pip install torchinfo\n",
    "!pip install pygame"
   ]
  },
  {
   "cell_type": "code",
   "execution_count": null,
   "metadata": {},
   "outputs": [],
   "source": [
    "import os\n",
    "path = os.getcwd() + \"/AlphaZero_C4\"\n",
    "os.chdir(path)\n",
    "print(path)"
   ]
  },
  {
   "cell_type": "code",
   "execution_count": 1,
   "metadata": {},
   "outputs": [
    {
     "name": "stdout",
     "output_type": "stream",
     "text": [
      "pygame-ce 2.4.1 (SDL 2.28.5, Python 3.10.11)\n"
     ]
    }
   ],
   "source": [
    "from AlphaZero.monte_carlo_tree_search import MCTS\n",
    "from game import Game\n",
    "import numpy as np\n",
    "from IPython.display import clear_output"
   ]
  },
  {
   "cell_type": "code",
   "execution_count": 2,
   "metadata": {},
   "outputs": [
    {
     "data": {
      "image/png": "[encoded data removed]",
      "text/plain": [
       "<PIL.Image.Image image mode=RGB size=525x450>"
      ]
     },
     "metadata": {},
     "output_type": "display_data"
    },
    {
     "name": "stdout",
     "output_type": "stream",
     "text": [
      "-1 won\n"
     ]
    }
   ],
   "source": [
    "bot_params = {\n",
    "    \"C\": 3,\n",
    "    \"num_searches\": 1000,\n",
    "    \"dirichlet_epsilon\": 0.0,\n",
    "    \"dirichlet_alpha\": 0.71\n",
    "}\n",
    "\n",
    "game_c4 = Game(level = 7)\n",
    "model = game_c4.get_engine_().eval()\n",
    "\n",
    "mcts = MCTS(game_c4, bot_params, model)\n",
    "state = game_c4.initialize()\n",
    "\n",
    "player = 1\n",
    "while True:\n",
    "    display(game_c4.render_state(state, player))\n",
    "    if player == 1:\n",
    "        valid_moves = game_c4.get_valid_moves(state, player)\n",
    "        print(\"valid_moves\", [i for i in range(game_c4.action_size) if valid_moves[i] == 1])\n",
    "        action = int(input(f\"{player}:\"))\n",
    "        player_name = \"player\"\n",
    "            \n",
    "    else:\n",
    "        flipped_state = game_c4.change_perspective(state, player)\n",
    "        mcts_probs = mcts.search(flipped_state, player)\n",
    "        action = np.argmax(mcts_probs)\n",
    "        player_name = \"bot\"\n",
    "        \n",
    "    print(action)\n",
    "    state = game_c4.get_next_state(state, action, player)\n",
    "    \n",
    "    value, is_terminal = game_c4.get_value_and_terminated(state, action, player)\n",
    "    \n",
    "    if is_terminal:\n",
    "        clear_output()\n",
    "        display(game_c4.render_state(state, player))\n",
    "        if value == 1:\n",
    "            print(player, \"won\")\n",
    "        else:\n",
    "            print(\"draw\")\n",
    "        break\n",
    "        \n",
    "    player = game_c4.get_opponent(player)\n",
    "    clear_output()\n",
    "    print(\"Last Play:\")\n",
    "    print(\"Player:\", player_name, \"Action:\", action)"
   ]
  },
  {
   "cell_type": "code",
   "execution_count": null,
   "metadata": {},
   "outputs": [],
   "source": []
  }
 ],
 "metadata": {
  "kernelspec": {
   "display_name": "Python 3",
   "language": "python",
   "name": "python3"
  },
  "language_info": {
   "codemirror_mode": {
    "name": "ipython",
    "version": 3
   },
   "file_extension": ".py",
   "mimetype": "text/x-python",
   "name": "python",
   "nbconvert_exporter": "python",
   "pygments_lexer": "ipython3",
   "version": "3.10.11"
  }
 },
 "nbformat": 4,
 "nbformat_minor": 2
}
