{
 "cells": [
  {
   "cell_type": "markdown",
   "metadata": {},
   "source": [
    "# Play Connect4"
   ]
  },
  {
   "cell_type": "code",
   "execution_count": 1,
   "metadata": {},
   "outputs": [
    {
     "name": "stdout",
     "output_type": "stream",
     "text": [
      "pygame-ce 2.4.1 (SDL 2.28.5, Python 3.10.11)\n"
     ]
    }
   ],
   "source": [
    "from AlphaZero.monte_carlo_tree_search import MCTS\n",
    "from game import Game\n",
    "from GameEnvironments.C4 import Game_C4\n",
    "import numpy as np\n",
    "from IPython.display import clear_output"
   ]
  },
  {
   "cell_type": "code",
   "execution_count": 2,
   "metadata": {},
   "outputs": [
    {
     "ename": "AttributeError",
     "evalue": "'Game' object has no attribute '__get_engine'",
     "output_type": "error",
     "traceback": [
      "\u001b[0;31m---------------------------------------------------------------------------\u001b[0m",
      "\u001b[0;31mAttributeError\u001b[0m                            Traceback (most recent call last)",
      "Cell \u001b[0;32mIn[2], line 12\u001b[0m\n\u001b[1;32m      4\u001b[0m player_params \u001b[38;5;241m=\u001b[39m {\n\u001b[1;32m      5\u001b[0m     \u001b[38;5;124m\"\u001b[39m\u001b[38;5;124mC\u001b[39m\u001b[38;5;124m\"\u001b[39m: \u001b[38;5;241m3\u001b[39m,\n\u001b[1;32m      6\u001b[0m     \u001b[38;5;124m\"\u001b[39m\u001b[38;5;124mnum_searches\u001b[39m\u001b[38;5;124m\"\u001b[39m: \u001b[38;5;241m800\u001b[39m,\n\u001b[1;32m      7\u001b[0m     \u001b[38;5;124m\"\u001b[39m\u001b[38;5;124mdirichlet_epsilon\u001b[39m\u001b[38;5;124m\"\u001b[39m: \u001b[38;5;241m0.0\u001b[39m,\n\u001b[1;32m      8\u001b[0m     \u001b[38;5;124m\"\u001b[39m\u001b[38;5;124mdirichlet_alpha\u001b[39m\u001b[38;5;124m\"\u001b[39m: \u001b[38;5;241m0.71\u001b[39m\n\u001b[1;32m      9\u001b[0m }\n\u001b[1;32m     11\u001b[0m gm \u001b[38;5;241m=\u001b[39m Game(level \u001b[38;5;241m=\u001b[39m \u001b[38;5;241m7\u001b[39m)\n\u001b[0;32m---> 12\u001b[0m model \u001b[38;5;241m=\u001b[39m \u001b[43mgm\u001b[49m\u001b[38;5;241;43m.\u001b[39;49m\u001b[43m__get_engine\u001b[49m()\n\u001b[1;32m     13\u001b[0m model\u001b[38;5;241m.\u001b[39meval()\n\u001b[1;32m     15\u001b[0m mcts \u001b[38;5;241m=\u001b[39m MCTS(game_c4, player_params, model)\n",
      "\u001b[0;31mAttributeError\u001b[0m: 'Game' object has no attribute '__get_engine'"
     ]
    }
   ],
   "source": [
    "game_c4 = Game_C4()\n",
    "player = 1\n",
    "\n",
    "player_params = {\n",
    "    \"C\": 3,\n",
    "    \"num_searches\": 800,\n",
    "    \"dirichlet_epsilon\": 0.0,\n",
    "    \"dirichlet_alpha\": 0.71\n",
    "}\n",
    "\n",
    "gm = Game(level = 7)\n",
    "model = gm.get_engine_()\n",
    "model.eval()\n",
    "\n",
    "mcts = MCTS(game_c4, player_params, model)\n",
    "state = game_c4.initialize()\n",
    "\n",
    "while True:\n",
    "    display(game_c4.render_state(state, player))\n",
    "    if player == 1:\n",
    "        valid_moves = game_c4.get_valid_moves(state, player)\n",
    "        print(\"valid_moves\", [i for i in range(game_c4.action_size) if valid_moves[i] == 1])\n",
    "        action = int(input(f\"{player}:\"))\n",
    "        player_name = \"player\"\n",
    "            \n",
    "    else:\n",
    "        flipped_state = game_c4.change_perspective(state, player)\n",
    "        mcts_probs = mcts.search(flipped_state, player)\n",
    "        action = np.argmax(mcts_probs)\n",
    "        player_name = \"bot\"\n",
    "        \n",
    "    print(action)\n",
    "    state = game_c4.get_next_state(state, action, player)\n",
    "    \n",
    "    value, is_terminal = game_c4.get_value_and_terminated(state, action, player)\n",
    "    \n",
    "    if is_terminal:\n",
    "        clear_output()\n",
    "        display(game_c4.render_state(state, player))\n",
    "        if value == 1:\n",
    "            print(player, \"won\")\n",
    "        else:\n",
    "            print(\"draw\")\n",
    "        break\n",
    "        \n",
    "    player = game_c4.get_opponent(player)\n",
    "    clear_output()\n",
    "    print(\"Last Play:\")\n",
    "    print(\"Player:\", player_name, \"Action:\", action)"
   ]
  },
  {
   "cell_type": "code",
   "execution_count": null,
   "metadata": {},
   "outputs": [],
   "source": []
  }
 ],
 "metadata": {
  "kernelspec": {
   "display_name": "Python 3",
   "language": "python",
   "name": "python3"
  },
  "language_info": {
   "codemirror_mode": {
    "name": "ipython",
    "version": 3
   },
   "file_extension": ".py",
   "mimetype": "text/x-python",
   "name": "python",
   "nbconvert_exporter": "python",
   "pygments_lexer": "ipython3",
   "version": "3.10.11"
  }
 },
 "nbformat": 4,
 "nbformat_minor": 2
}
