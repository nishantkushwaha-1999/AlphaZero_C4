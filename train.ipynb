{
  "cells": [
    {
      "cell_type": "code",
      "execution_count": 6,
      "metadata": {
        "colab": {
          "base_uri": "https://localhost:8080/"
        },
        "id": "2VqK_rh8XGJ5",
        "outputId": "aba25158-6f4b-4dc9-a15c-66584c3da77e"
      },
      "outputs": [
        {
          "name": "stdout",
          "output_type": "stream",
          "text": [
            "Cloning into 'AlphaZero_C4'...\n",
            "remote: Enumerating objects: 33, done.\u001b[K\n",
            "remote: Counting objects: 100% (33/33), done.\u001b[K\n",
            "remote: Compressing objects: 100% (25/25), done.\u001b[K\n",
            "remote: Total 33 (delta 7), reused 25 (delta 4), pack-reused 0\u001b[K\n",
            "Receiving objects: 100% (33/33), 39.27 KiB | 3.57 MiB/s, done.\n",
            "Resolving deltas: 100% (7/7), done.\n"
          ]
        }
      ],
      "source": [
        "!git clone https://github.com/nishantkushwaha-1999/AlphaZero_C4.git\n",
        "!pip install torchinfo\n",
        "!pip install pygame"
      ]
    },
    {
      "cell_type": "code",
      "execution_count": 3,
      "metadata": {
        "id": "z3YFi-DtX0Dh"
      },
      "outputs": [],
      "source": [
        "import os\n",
        "path = os.getcwd() + \"/AlphaZero_C4\"\n",
        "os.chdir(path)\n",
        "print(path)"
      ]
    },
    {
      "cell_type": "code",
      "execution_count": null,
      "metadata": {},
      "outputs": [],
      "source": [
        "from google.colab import drive\n",
        "drive.mount('./drive', force_remount=True)"
      ]
    },
    {
      "cell_type": "code",
      "execution_count": 1,
      "metadata": {
        "colab": {
          "base_uri": "https://localhost:8080/"
        },
        "id": "1GwREA9wXaUO",
        "outputId": "664efa0a-ec0f-42b2-ffe4-db8e4c2b0387"
      },
      "outputs": [
        {
          "name": "stdout",
          "output_type": "stream",
          "text": [
            "pygame-ce 2.4.1 (SDL 2.28.5, Python 3.10.11)\n"
          ]
        }
      ],
      "source": [
        "import numpy as np\n",
        "import torch\n",
        "from Game.C4 import Game_C4\n",
        "from AlphaZero.model import ResNet_C4\n",
        "from AlphaZero.AlphaZero import AlphaZero\n",
        "from torchinfo import summary"
      ]
    },
    {
      "cell_type": "markdown",
      "metadata": {},
      "source": [
        "# Train AlphaZero_C4"
      ]
    },
    {
      "cell_type": "markdown",
      "metadata": {},
      "source": [
        "### Train from Scratch"
      ]
    },
    {
      "cell_type": "code",
      "execution_count": 2,
      "metadata": {
        "colab": {
          "base_uri": "https://localhost:8080/"
        },
        "id": "w7vNU9E2YiCA",
        "outputId": "42536998-9005-4566-eb61-e0cee0fccfc3"
      },
      "outputs": [
        {
          "name": "stdout",
          "output_type": "stream",
          "text": [
            "==========================================================================================\n",
            "Layer (type:depth-idx)                   Output Shape              Param #\n",
            "==========================================================================================\n",
            "ResNet_C4                                [128, 1]                  --\n",
            "├─Sequential: 1-1                        [128, 16, 6, 7]           --\n",
            "│    └─Conv2d: 2-1                       [128, 16, 6, 7]           448\n",
            "│    └─BatchNorm2d: 2-2                  [128, 16, 6, 7]           32\n",
            "│    └─ReLU: 2-3                         [128, 16, 6, 7]           --\n",
            "├─ModuleList: 1-2                        --                        --\n",
            "│    └─ResBlock: 2-4                     [128, 16, 6, 7]           --\n",
            "│    │    └─Conv2d: 3-1                  [128, 16, 6, 7]           2,320\n",
            "│    │    └─BatchNorm2d: 3-2             [128, 16, 6, 7]           32\n",
            "│    │    └─Conv2d: 3-3                  [128, 16, 6, 7]           2,320\n",
            "│    │    └─BatchNorm2d: 3-4             [128, 16, 6, 7]           32\n",
            "├─Sequential: 1-3                        [128, 1]                  --\n",
            "│    └─Conv2d: 2-5                       [128, 32, 6, 7]           4,640\n",
            "│    └─BatchNorm2d: 2-6                  [128, 32, 6, 7]           64\n",
            "│    └─ReLU: 2-7                         [128, 32, 6, 7]           --\n",
            "│    └─Flatten: 2-8                      [128, 1344]               --\n",
            "│    └─Linear: 2-9                       [128, 256]                344,320\n",
            "│    └─ReLU: 2-10                        [128, 256]                --\n",
            "│    └─Linear: 2-11                      [128, 1]                  257\n",
            "│    └─Tanh: 2-12                        [128, 1]                  --\n",
            "├─Sequential: 1-4                        [128, 14]                 --\n",
            "│    └─Conv2d: 2-13                      [128, 32, 6, 7]           4,640\n",
            "│    └─BatchNorm2d: 2-14                 [128, 32, 6, 7]           64\n",
            "│    └─ReLU: 2-15                        [128, 32, 6, 7]           --\n",
            "│    └─Flatten: 2-16                     [128, 1344]               --\n",
            "│    └─Linear: 2-17                      [128, 14]                 18,830\n",
            "==========================================================================================\n",
            "Total params: 377,999\n",
            "Trainable params: 377,999\n",
            "Non-trainable params: 0\n",
            "Total mult-adds (M): 123.79\n",
            "==========================================================================================\n",
            "Input size (MB): 0.06\n",
            "Forward/backward pass size (MB): 9.91\n",
            "Params size (MB): 1.51\n",
            "Estimated Total Size (MB): 11.49\n",
            "==========================================================================================\n"
          ]
        }
      ],
      "source": [
        "game_c4 = Game_C4()\n",
        "\n",
        "args = {\n",
        "    'board_dim': (game_c4.rows, game_c4.columns),\n",
        "    'n_actions': game_c4.action_size,\n",
        "    'n_res_blocks': 10,\n",
        "    'n_hidden': 64,\n",
        "    'C': 3,\n",
        "    'lr': 0.01,\n",
        "    'weight_decay': 0.001,\n",
        "    'num_searches': 800,\n",
        "    'n_iters': 50,\n",
        "    'n_selfPlay': 150,\n",
        "    'n_parallel': True,\n",
        "    'n_parallel_games': 50,\n",
        "    'epochs': 4,\n",
        "    'batch_size': 128,\n",
        "    'temperature': 1.2,\n",
        "    'dirichlet_epsilon': 0.25,\n",
        "    'dirichlet_alpha': 0.65\n",
        "}\n",
        "\n",
        "device = torch.device(\"cuda\" if torch.cuda.is_available() else \"cpu\")\n",
        "model = ResNet_C4(\n",
        "    board_dim=args['board_dim'],\n",
        "    n_actions=args['n_actions'],\n",
        "    n_res=args['n_res_blocks'],\n",
        "    n_hidden=args['n_hidden'],\n",
        "    device=device\n",
        ")\n",
        "optimizer = torch.optim.Adam(model.parameters(), lr=args['lr'], weight_decay=args['weight_decay'])\n",
        "architecture = summary(model, input_size=(args['batch_size'], 3, game_c4.rows, game_c4.columns), verbose=0)\n",
        "print(architecture)"
      ]
    },
    {
      "cell_type": "code",
      "execution_count": 4,
      "metadata": {
        "colab": {
          "base_uri": "https://localhost:8080/",
          "height": 418
        },
        "id": "zMWdOinBYosU",
        "outputId": "82f2f49e-803d-4a49-a9d0-b4e614629d20"
      },
      "outputs": [
        {
          "name": "stdout",
          "output_type": "stream",
          "text": [
            "Initializing...\n",
            "Iter 1 of 1\n",
            "Self Play: Playing 1 games parallely\n"
          ]
        },
        {
          "name": "stderr",
          "output_type": "stream",
          "text": [
            "21 fills remaining: : 100%|██████████| 1/1 [00:02<00:00,  2.09s/it]\n"
          ]
        },
        {
          "name": "stdout",
          "output_type": "stream",
          "text": [
            "Model Train:\n",
            "Training on 22 game states\n"
          ]
        },
        {
          "name": "stderr",
          "output_type": "stream",
          "text": [
            "Epoch 0/1 - batch_loss: 3.8608224391937256: 100%|██████████| 1/1 [00:00<00:00, 71.73it/s]\n"
          ]
        },
        {
          "name": "stdout",
          "output_type": "stream",
          "text": [
            "Model saved at: /Volumes/Storage/Git Repos/AlphaZero_C4/saved_models/****_1_Connect_4.pt\n"
          ]
        }
      ],
      "source": [
        "alphazero = AlphaZero()\n",
        "alphazero.learn(model, optimizer, game_c4, args, \n",
        "                # save_path=\"\"\n",
        "                save_path=\"/content/AlphaZero_C4/drive/MyDrive/AlphaZero_C4/saved_models\", \n",
        "                n_parallel=args['n_parallel'])"
      ]
    },
    {
      "cell_type": "markdown",
      "metadata": {},
      "source": [
        "### Load & Train"
      ]
    },
    {
      "cell_type": "code",
      "execution_count": 2,
      "metadata": {},
      "outputs": [
        {
          "name": "stdout",
          "output_type": "stream",
          "text": [
            "Resuming Training:\n",
            "Iter 2 of 10\n",
            "Self Play: Playing 1 games parallely\n"
          ]
        },
        {
          "name": "stderr",
          "output_type": "stream",
          "text": [
            "30 fills remaining: : 100%|██████████| 1/1 [00:01<00:00,  1.39s/it]\n"
          ]
        },
        {
          "name": "stdout",
          "output_type": "stream",
          "text": [
            "Model Train:\n",
            "Training on 15 game states\n"
          ]
        },
        {
          "name": "stderr",
          "output_type": "stream",
          "text": [
            "Epoch 0/1 - batch_loss: 6.415152072906494: 100%|██████████| 1/1 [00:00<00:00, 37.10it/s]\n"
          ]
        },
        {
          "name": "stdout",
          "output_type": "stream",
          "text": [
            "Model saved at: /Volumes/Storage/Git Repos/AlphaZero_C4/saved_models/****_2_Connect_4.pt\n",
            "Iter 3 of 10\n",
            "Self Play: Playing 1 games parallely\n"
          ]
        },
        {
          "name": "stderr",
          "output_type": "stream",
          "text": [
            "26 fills remaining: : 100%|██████████| 1/1 [00:01<00:00,  1.47s/it]\n"
          ]
        },
        {
          "name": "stdout",
          "output_type": "stream",
          "text": [
            "Model Train:\n",
            "Training on 17 game states\n"
          ]
        },
        {
          "name": "stderr",
          "output_type": "stream",
          "text": [
            "Epoch 0/1 - batch_loss: 7.175382137298584: 100%|██████████| 1/1 [00:00<00:00, 67.52it/s]\n"
          ]
        },
        {
          "name": "stdout",
          "output_type": "stream",
          "text": [
            "Model saved at: /Volumes/Storage/Git Repos/AlphaZero_C4/saved_models/****_3_Connect_4.pt\n",
            "Iter 4 of 10\n",
            "Self Play: Playing 1 games parallely\n"
          ]
        },
        {
          "name": "stderr",
          "output_type": "stream",
          "text": [
            "26 fills remaining: : 100%|██████████| 1/1 [00:01<00:00,  1.46s/it]\n"
          ]
        },
        {
          "name": "stdout",
          "output_type": "stream",
          "text": [
            "Model Train:\n",
            "Training on 17 game states\n"
          ]
        },
        {
          "name": "stderr",
          "output_type": "stream",
          "text": [
            "Epoch 0/1 - batch_loss: 5.056169509887695: 100%|██████████| 1/1 [00:00<00:00, 81.18it/s]\n"
          ]
        },
        {
          "name": "stdout",
          "output_type": "stream",
          "text": [
            "Model saved at: /Volumes/Storage/Git Repos/AlphaZero_C4/saved_models/****_4_Connect_4.pt\n",
            "Iter 5 of 10\n",
            "Self Play: Playing 1 games parallely\n"
          ]
        },
        {
          "name": "stderr",
          "output_type": "stream",
          "text": [
            "25 fills remaining: : 100%|██████████| 1/1 [00:02<00:00,  2.52s/it]\n"
          ]
        },
        {
          "name": "stdout",
          "output_type": "stream",
          "text": [
            "Model Train:\n",
            "Training on 26 game states\n"
          ]
        },
        {
          "name": "stderr",
          "output_type": "stream",
          "text": [
            "Epoch 0/1 - batch_loss: 5.144381046295166: 100%|██████████| 1/1 [00:00<00:00, 61.80it/s]\n"
          ]
        },
        {
          "name": "stdout",
          "output_type": "stream",
          "text": [
            "Model saved at: /Volumes/Storage/Git Repos/AlphaZero_C4/saved_models/****_5_Connect_4.pt\n",
            "Iter 6 of 10\n",
            "Self Play: Playing 1 games parallely\n"
          ]
        },
        {
          "name": "stderr",
          "output_type": "stream",
          "text": [
            "29 fills remaining: : 100%|██████████| 1/1 [00:01<00:00,  1.88s/it]\n"
          ]
        },
        {
          "name": "stdout",
          "output_type": "stream",
          "text": [
            "Model Train:\n",
            "Training on 18 game states\n"
          ]
        },
        {
          "name": "stderr",
          "output_type": "stream",
          "text": [
            "Epoch 0/1 - batch_loss: 5.300870895385742: 100%|██████████| 1/1 [00:00<00:00, 76.39it/s]\n"
          ]
        },
        {
          "name": "stdout",
          "output_type": "stream",
          "text": [
            "Model saved at: /Volumes/Storage/Git Repos/AlphaZero_C4/saved_models/****_6_Connect_4.pt\n",
            "Iter 7 of 10\n",
            "Self Play: Playing 1 games parallely\n"
          ]
        },
        {
          "name": "stderr",
          "output_type": "stream",
          "text": [
            "26 fills remaining: : 100%|██████████| 1/1 [00:01<00:00,  1.95s/it]\n"
          ]
        },
        {
          "name": "stdout",
          "output_type": "stream",
          "text": [
            "Model Train:\n",
            "Training on 20 game states\n"
          ]
        },
        {
          "name": "stderr",
          "output_type": "stream",
          "text": [
            "Epoch 0/1 - batch_loss: 4.695318698883057: 100%|██████████| 1/1 [00:00<00:00, 74.85it/s]\n"
          ]
        },
        {
          "name": "stdout",
          "output_type": "stream",
          "text": [
            "Model saved at: /Volumes/Storage/Git Repos/AlphaZero_C4/saved_models/****_7_Connect_4.pt\n",
            "Iter 8 of 10\n",
            "Self Play: Playing 1 games parallely\n"
          ]
        },
        {
          "name": "stderr",
          "output_type": "stream",
          "text": [
            "31 fills remaining: : 100%|██████████| 1/1 [00:01<00:00,  1.41s/it]\n"
          ]
        },
        {
          "name": "stdout",
          "output_type": "stream",
          "text": [
            "Model Train:\n",
            "Training on 13 game states\n"
          ]
        },
        {
          "name": "stderr",
          "output_type": "stream",
          "text": [
            "Epoch 0/1 - batch_loss: 4.594738483428955: 100%|██████████| 1/1 [00:00<00:00, 144.57it/s]\n"
          ]
        },
        {
          "name": "stdout",
          "output_type": "stream",
          "text": [
            "Model saved at: /Volumes/Storage/Git Repos/AlphaZero_C4/saved_models/****_8_Connect_4.pt\n",
            "Iter 9 of 10\n",
            "Self Play: Playing 1 games parallely\n"
          ]
        },
        {
          "name": "stderr",
          "output_type": "stream",
          "text": [
            "25 fills remaining: : 100%|██████████| 1/1 [00:01<00:00,  1.76s/it]\n"
          ]
        },
        {
          "name": "stdout",
          "output_type": "stream",
          "text": [
            "Model Train:\n",
            "Training on 18 game states\n"
          ]
        },
        {
          "name": "stderr",
          "output_type": "stream",
          "text": [
            "Epoch 0/1 - batch_loss: 4.268261909484863: 100%|██████████| 1/1 [00:00<00:00, 81.70it/s]\n"
          ]
        },
        {
          "name": "stdout",
          "output_type": "stream",
          "text": [
            "Model saved at: /Volumes/Storage/Git Repos/AlphaZero_C4/saved_models/****_9_Connect_4.pt\n",
            "Iter 10 of 10\n",
            "Self Play: Playing 1 games parallely\n"
          ]
        },
        {
          "name": "stderr",
          "output_type": "stream",
          "text": [
            "23 fills remaining: : 100%|██████████| 1/1 [00:02<00:00,  2.04s/it]\n"
          ]
        },
        {
          "name": "stdout",
          "output_type": "stream",
          "text": [
            "Model Train:\n",
            "Training on 20 game states\n"
          ]
        },
        {
          "name": "stderr",
          "output_type": "stream",
          "text": [
            "Epoch 0/1 - batch_loss: 4.010201930999756: 100%|██████████| 1/1 [00:00<00:00, 70.23it/s]\n"
          ]
        },
        {
          "name": "stdout",
          "output_type": "stream",
          "text": [
            "Model saved at: /Volumes/Storage/Git Repos/AlphaZero_C4/saved_models/****_10_Connect_4.pt\n"
          ]
        }
      ],
      "source": [
        "game_c4 = Game_C4()\n",
        "\n",
        "alphazero = AlphaZero()\n",
        "alphazero.load_and_resume(game_c4, \"/Volumes/Storage/Git Repos/AlphaZero_C4/saved_models/\", train=True)"
      ]
    },
    {
      "cell_type": "code",
      "execution_count": null,
      "metadata": {},
      "outputs": [],
      "source": []
    }
  ],
  "metadata": {
    "accelerator": "GPU",
    "colab": {
      "gpuType": "T4",
      "provenance": []
    },
    "kernelspec": {
      "display_name": "Python 3",
      "name": "python3"
    },
    "language_info": {
      "codemirror_mode": {
        "name": "ipython",
        "version": 3
      },
      "file_extension": ".py",
      "mimetype": "text/x-python",
      "name": "python",
      "nbconvert_exporter": "python",
      "pygments_lexer": "ipython3",
      "version": "3.10.11"
    }
  },
  "nbformat": 4,
  "nbformat_minor": 0
}
