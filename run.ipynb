{
  "cells": [
    {
      "cell_type": "code",
      "execution_count": 6,
      "metadata": {
        "colab": {
          "base_uri": "https://localhost:8080/"
        },
        "id": "2VqK_rh8XGJ5",
        "outputId": "aba25158-6f4b-4dc9-a15c-66584c3da77e"
      },
      "outputs": [
        {
          "name": "stdout",
          "output_type": "stream",
          "text": [
            "Cloning into 'AlphaZero_C4'...\n",
            "remote: Enumerating objects: 33, done.\u001b[K\n",
            "remote: Counting objects: 100% (33/33), done.\u001b[K\n",
            "remote: Compressing objects: 100% (25/25), done.\u001b[K\n",
            "remote: Total 33 (delta 7), reused 25 (delta 4), pack-reused 0\u001b[K\n",
            "Receiving objects: 100% (33/33), 39.27 KiB | 3.57 MiB/s, done.\n",
            "Resolving deltas: 100% (7/7), done.\n"
          ]
        }
      ],
      "source": [
        "!git clone https://github.com/nishantkushwaha-1999/AlphaZero_C4.git"
      ]
    },
    {
      "cell_type": "code",
      "execution_count": 2,
      "metadata": {
        "colab": {
          "base_uri": "https://localhost:8080/"
        },
        "id": "Gf6nmSx4YaYR",
        "outputId": "eda929d8-3d8a-4ede-f463-d3ae932095c1"
      },
      "outputs": [
        {
          "name": "stdout",
          "output_type": "stream",
          "text": [
            "Collecting torchinfo\n",
            "  Downloading torchinfo-1.8.0-py3-none-any.whl (23 kB)\n",
            "Installing collected packages: torchinfo\n",
            "Successfully installed torchinfo-1.8.0\n"
          ]
        }
      ],
      "source": [
        "!pip install torchinfo"
      ]
    },
    {
      "cell_type": "code",
      "execution_count": 3,
      "metadata": {
        "id": "z3YFi-DtX0Dh"
      },
      "outputs": [],
      "source": [
        "import os\n",
        "path = os.getcwd() + \"/AlphaZero_C4\"\n",
        "os.chdir(path)"
      ]
    },
    {
      "cell_type": "code",
      "execution_count": 1,
      "metadata": {
        "colab": {
          "base_uri": "https://localhost:8080/"
        },
        "id": "1GwREA9wXaUO",
        "outputId": "664efa0a-ec0f-42b2-ffe4-db8e4c2b0387"
      },
      "outputs": [
        {
          "name": "stdout",
          "output_type": "stream",
          "text": [
            "pygame 2.5.2 (SDL 2.28.3, Python 3.10.11)\n",
            "Hello from the pygame community. https://www.pygame.org/contribute.html\n"
          ]
        }
      ],
      "source": [
        "import torch\n",
        "from Game.C4 import Game_C4\n",
        "from AlphaZero.model import ResNet_C4\n",
        "from AlphaZero.AlphaZero import AlphaZero\n",
        "from torchinfo import summary"
      ]
    },
    {
      "cell_type": "markdown",
      "metadata": {},
      "source": [
        "# Train AlphaZero_C4"
      ]
    },
    {
      "cell_type": "markdown",
      "metadata": {},
      "source": [
        "### Train from Scratch"
      ]
    },
    {
      "cell_type": "code",
      "execution_count": 4,
      "metadata": {
        "colab": {
          "base_uri": "https://localhost:8080/"
        },
        "id": "w7vNU9E2YiCA",
        "outputId": "42536998-9005-4566-eb61-e0cee0fccfc3"
      },
      "outputs": [
        {
          "name": "stdout",
          "output_type": "stream",
          "text": [
            "==========================================================================================\n",
            "Layer (type:depth-idx)                   Output Shape              Param #\n",
            "==========================================================================================\n",
            "ResNet_C4                                [2, 1]                    --\n",
            "├─Sequential: 1-1                        [2, 16, 6, 7]             --\n",
            "│    └─Conv2d: 2-1                       [2, 16, 6, 7]             448\n",
            "│    └─BatchNorm2d: 2-2                  [2, 16, 6, 7]             32\n",
            "│    └─ReLU: 2-3                         [2, 16, 6, 7]             --\n",
            "├─ModuleList: 1-2                        --                        --\n",
            "│    └─ResBlock: 2-4                     [2, 16, 6, 7]             --\n",
            "│    │    └─Conv2d: 3-1                  [2, 16, 6, 7]             2,320\n",
            "│    │    └─BatchNorm2d: 3-2             [2, 16, 6, 7]             32\n",
            "│    │    └─Conv2d: 3-3                  [2, 16, 6, 7]             2,320\n",
            "│    │    └─BatchNorm2d: 3-4             [2, 16, 6, 7]             32\n",
            "├─Sequential: 1-3                        [2, 1]                    --\n",
            "│    └─Conv2d: 2-5                       [2, 32, 6, 7]             4,640\n",
            "│    └─BatchNorm2d: 2-6                  [2, 32, 6, 7]             64\n",
            "│    └─ReLU: 2-7                         [2, 32, 6, 7]             --\n",
            "│    └─Flatten: 2-8                      [2, 1344]                 --\n",
            "│    └─Linear: 2-9                       [2, 256]                  344,320\n",
            "│    └─ReLU: 2-10                        [2, 256]                  --\n",
            "│    └─Linear: 2-11                      [2, 1]                    257\n",
            "│    └─Tanh: 2-12                        [2, 1]                    --\n",
            "├─Sequential: 1-4                        [2, 7]                    --\n",
            "│    └─Conv2d: 2-13                      [2, 32, 6, 7]             4,640\n",
            "│    └─BatchNorm2d: 2-14                 [2, 32, 6, 7]             64\n",
            "│    └─ReLU: 2-15                        [2, 32, 6, 7]             --\n",
            "│    └─Flatten: 2-16                     [2, 1344]                 --\n",
            "│    └─Linear: 2-17                      [2, 7]                    9,415\n",
            "==========================================================================================\n",
            "Total params: 368,584\n",
            "Trainable params: 368,584\n",
            "Non-trainable params: 0\n",
            "Total mult-adds (M): 1.92\n",
            "==========================================================================================\n",
            "Input size (MB): 0.00\n",
            "Forward/backward pass size (MB): 0.15\n",
            "Params size (MB): 1.47\n",
            "Estimated Total Size (MB): 1.63\n",
            "==========================================================================================\n"
          ]
        }
      ],
      "source": [
        "game_c4 = Game_C4()\n",
        "\n",
        "args = {\n",
        "    'board_dim': (game_c4.rows, game_c4.columns),\n",
        "    'n_actions': game_c4.action_size,\n",
        "    'n_res_blocks': 1,\n",
        "    'n_hidden': 16,\n",
        "    'C': 2,\n",
        "    'lr': 0.001,\n",
        "    'weight_decay': 0.001,\n",
        "    'num_searches': 100,\n",
        "    'n_iters': 2,\n",
        "    'n_selfPlay': 20,\n",
        "    'n_parallel': True,\n",
        "    'n_parallel_games': 100,\n",
        "    'epochs': 2,\n",
        "    'batch_size': 2,\n",
        "    'temperature': 1.25,\n",
        "    'dirichlet_epsilon': 0.25,\n",
        "    'dirichlet_alpha': 0.03\n",
        "}\n",
        "\n",
        "device = torch.device(\"cuda\" if torch.cuda.is_available() else \"cpu\")\n",
        "model = ResNet_C4(\n",
        "    board_dim=args['board_dim'],\n",
        "    n_actions=args['n_actions'],\n",
        "    n_res=args['n_res_blocks'],\n",
        "    n_hidden=args['n_hidden'],\n",
        "    device=device\n",
        ")\n",
        "optimizer = torch.optim.Adam(model.parameters(), lr=args['lr'], weight_decay=args['weight_decay'])\n",
        "architecture = summary(model, input_size=(args['batch_size'], 3, game_c4.rows, game_c4.columns), verbose=0)\n",
        "print(architecture)"
      ]
    },
    {
      "cell_type": "code",
      "execution_count": 5,
      "metadata": {
        "colab": {
          "base_uri": "https://localhost:8080/",
          "height": 418
        },
        "id": "zMWdOinBYosU",
        "outputId": "82f2f49e-803d-4a49-a9d0-b4e614629d20"
      },
      "outputs": [
        {
          "name": "stdout",
          "output_type": "stream",
          "text": [
            "Iter 1 of 2\n",
            "Self Play:\n"
          ]
        },
        {
          "name": "stderr",
          "output_type": "stream",
          "text": [
            "0it [00:00, ?it/s]\n"
          ]
        },
        {
          "name": "stdout",
          "output_type": "stream",
          "text": [
            "Model Train:\n"
          ]
        },
        {
          "name": "stderr",
          "output_type": "stream",
          "text": [
            "0it [00:00, ?it/s]\n",
            "0it [00:00, ?it/s]"
          ]
        },
        {
          "name": "stderr",
          "output_type": "stream",
          "text": [
            "\n"
          ]
        },
        {
          "name": "stdout",
          "output_type": "stream",
          "text": [
            "Model saved at: /Volumes/Storage/Git Repos/AlphaZero_C4/saved_models/****_1_Connect_4.pt\n",
            "Iter 2 of 2\n",
            "Self Play:\n"
          ]
        },
        {
          "name": "stderr",
          "output_type": "stream",
          "text": [
            "0it [00:00, ?it/s]\n"
          ]
        },
        {
          "name": "stdout",
          "output_type": "stream",
          "text": [
            "Model Train:\n"
          ]
        },
        {
          "name": "stderr",
          "output_type": "stream",
          "text": [
            "0it [00:00, ?it/s]\n",
            "0it [00:00, ?it/s]\n"
          ]
        },
        {
          "name": "stdout",
          "output_type": "stream",
          "text": [
            "Model saved at: /Volumes/Storage/Git Repos/AlphaZero_C4/saved_models/****_2_Connect_4.pt\n"
          ]
        }
      ],
      "source": [
        "alphazero = AlphaZero()\n",
        "alphazero.learn(model, optimizer, game_c4, args, n_parallel=args['n_parallel'])"
      ]
    },
    {
      "cell_type": "markdown",
      "metadata": {},
      "source": [
        "### Load & Train"
      ]
    },
    {
      "cell_type": "code",
      "execution_count": 2,
      "metadata": {},
      "outputs": [
        {
          "name": "stdout",
          "output_type": "stream",
          "text": [
            "Iter 3 of 10\n",
            "Self Play:\n"
          ]
        },
        {
          "name": "stderr",
          "output_type": "stream",
          "text": [
            "0it [00:00, ?it/s]\n"
          ]
        },
        {
          "name": "stdout",
          "output_type": "stream",
          "text": [
            "Model Train:\n"
          ]
        },
        {
          "name": "stderr",
          "output_type": "stream",
          "text": [
            "0it [00:00, ?it/s]\n",
            "0it [00:00, ?it/s]\n"
          ]
        },
        {
          "name": "stdout",
          "output_type": "stream",
          "text": [
            "Model saved at: /Volumes/Storage/Git Repos/AlphaZero_C4/saved_model/****_3_Connect_4.pt\n",
            "Iter 4 of 10\n",
            "Self Play:\n"
          ]
        },
        {
          "name": "stderr",
          "output_type": "stream",
          "text": [
            "0it [00:00, ?it/s]\n"
          ]
        },
        {
          "name": "stdout",
          "output_type": "stream",
          "text": [
            "Model Train:\n"
          ]
        },
        {
          "name": "stderr",
          "output_type": "stream",
          "text": [
            "0it [00:00, ?it/s]\n",
            "0it [00:00, ?it/s]\n"
          ]
        },
        {
          "name": "stdout",
          "output_type": "stream",
          "text": [
            "Model saved at: /Volumes/Storage/Git Repos/AlphaZero_C4/saved_model/****_4_Connect_4.pt\n",
            "Iter 5 of 10\n",
            "Self Play:\n"
          ]
        },
        {
          "name": "stderr",
          "output_type": "stream",
          "text": [
            "0it [00:00, ?it/s]\n"
          ]
        },
        {
          "name": "stdout",
          "output_type": "stream",
          "text": [
            "Model Train:\n"
          ]
        },
        {
          "name": "stderr",
          "output_type": "stream",
          "text": [
            "0it [00:00, ?it/s]\n",
            "0it [00:00, ?it/s]\n"
          ]
        },
        {
          "name": "stdout",
          "output_type": "stream",
          "text": [
            "Model saved at: /Volumes/Storage/Git Repos/AlphaZero_C4/saved_model/****_5_Connect_4.pt\n",
            "Iter 6 of 10\n",
            "Self Play:\n"
          ]
        },
        {
          "name": "stderr",
          "output_type": "stream",
          "text": [
            "0it [00:00, ?it/s]\n"
          ]
        },
        {
          "name": "stdout",
          "output_type": "stream",
          "text": [
            "Model Train:\n"
          ]
        },
        {
          "name": "stderr",
          "output_type": "stream",
          "text": [
            "0it [00:00, ?it/s]\n",
            "0it [00:00, ?it/s]\n"
          ]
        },
        {
          "name": "stdout",
          "output_type": "stream",
          "text": [
            "Model saved at: /Volumes/Storage/Git Repos/AlphaZero_C4/saved_model/****_6_Connect_4.pt\n",
            "Iter 7 of 10\n",
            "Self Play:\n"
          ]
        },
        {
          "name": "stderr",
          "output_type": "stream",
          "text": [
            "0it [00:00, ?it/s]\n"
          ]
        },
        {
          "name": "stdout",
          "output_type": "stream",
          "text": [
            "Model Train:\n"
          ]
        },
        {
          "name": "stderr",
          "output_type": "stream",
          "text": [
            "0it [00:00, ?it/s]\n",
            "0it [00:00, ?it/s]\n"
          ]
        },
        {
          "name": "stdout",
          "output_type": "stream",
          "text": [
            "Model saved at: /Volumes/Storage/Git Repos/AlphaZero_C4/saved_model/****_7_Connect_4.pt\n",
            "Iter 8 of 10\n",
            "Self Play:\n"
          ]
        },
        {
          "name": "stderr",
          "output_type": "stream",
          "text": [
            "0it [00:00, ?it/s]\n"
          ]
        },
        {
          "name": "stdout",
          "output_type": "stream",
          "text": [
            "Model Train:\n"
          ]
        },
        {
          "name": "stderr",
          "output_type": "stream",
          "text": [
            "0it [00:00, ?it/s]\n",
            "0it [00:00, ?it/s]\n"
          ]
        },
        {
          "name": "stdout",
          "output_type": "stream",
          "text": [
            "Model saved at: /Volumes/Storage/Git Repos/AlphaZero_C4/saved_model/****_8_Connect_4.pt\n"
          ]
        }
      ],
      "source": [
        "game_c4 = Game_C4()\n",
        "\n",
        "alphazero = AlphaZero()\n",
        "alphazero.load_and_resume(game_c4, \"/Volumes/Storage/Git Repos/AlphaZero_C4/saved_models/\")"
      ]
    }
  ],
  "metadata": {
    "accelerator": "GPU",
    "colab": {
      "gpuType": "T4",
      "provenance": []
    },
    "kernelspec": {
      "display_name": "Python 3",
      "name": "python3"
    },
    "language_info": {
      "codemirror_mode": {
        "name": "ipython",
        "version": 3
      },
      "file_extension": ".py",
      "mimetype": "text/x-python",
      "name": "python",
      "nbconvert_exporter": "python",
      "pygments_lexer": "ipython3",
      "version": "3.10.11"
    }
  },
  "nbformat": 4,
  "nbformat_minor": 0
}
