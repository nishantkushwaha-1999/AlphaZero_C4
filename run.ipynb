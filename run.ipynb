{
 "cells": [
  {
   "cell_type": "code",
   "execution_count": 1,
   "metadata": {},
   "outputs": [
    {
     "name": "stdout",
     "output_type": "stream",
     "text": [
      "pygame 2.5.2 (SDL 2.28.3, Python 3.10.11)\n",
      "Hello from the pygame community. https://www.pygame.org/contribute.html\n"
     ]
    }
   ],
   "source": [
    "import torch\n",
    "from Game.C4 import Game_C4\n",
    "from AlphaZero.model import ResNet_C4\n",
    "from AlphaZero.AlphaZero import AlphaZero\n",
    "from torchinfo import summary"
   ]
  },
  {
   "cell_type": "markdown",
   "metadata": {},
   "source": [
    "# Train AlphaZero on Connect4"
   ]
  },
  {
   "cell_type": "code",
   "execution_count": 3,
   "metadata": {},
   "outputs": [
    {
     "name": "stdout",
     "output_type": "stream",
     "text": [
      "==========================================================================================\n",
      "Layer (type:depth-idx)                   Output Shape              Param #\n",
      "==========================================================================================\n",
      "ResNet_C4                                [2, 1]                    --\n",
      "├─Sequential: 1-1                        [2, 128, 6, 7]            --\n",
      "│    └─Conv2d: 2-1                       [2, 128, 6, 7]            3,584\n",
      "│    └─BatchNorm2d: 2-2                  [2, 128, 6, 7]            256\n",
      "│    └─ReLU: 2-3                         [2, 128, 6, 7]            --\n",
      "├─ModuleList: 1-2                        --                        --\n",
      "│    └─ResBlock: 2-4                     [2, 128, 6, 7]            --\n",
      "│    │    └─Conv2d: 3-1                  [2, 128, 6, 7]            147,584\n",
      "│    │    └─BatchNorm2d: 3-2             [2, 128, 6, 7]            256\n",
      "│    │    └─Conv2d: 3-3                  [2, 128, 6, 7]            147,584\n",
      "│    │    └─BatchNorm2d: 3-4             [2, 128, 6, 7]            256\n",
      "│    └─ResBlock: 2-5                     [2, 128, 6, 7]            --\n",
      "│    │    └─Conv2d: 3-5                  [2, 128, 6, 7]            147,584\n",
      "│    │    └─BatchNorm2d: 3-6             [2, 128, 6, 7]            256\n",
      "│    │    └─Conv2d: 3-7                  [2, 128, 6, 7]            147,584\n",
      "│    │    └─BatchNorm2d: 3-8             [2, 128, 6, 7]            256\n",
      "│    └─ResBlock: 2-6                     [2, 128, 6, 7]            --\n",
      "│    │    └─Conv2d: 3-9                  [2, 128, 6, 7]            147,584\n",
      "│    │    └─BatchNorm2d: 3-10            [2, 128, 6, 7]            256\n",
      "│    │    └─Conv2d: 3-11                 [2, 128, 6, 7]            147,584\n",
      "│    │    └─BatchNorm2d: 3-12            [2, 128, 6, 7]            256\n",
      "│    └─ResBlock: 2-7                     [2, 128, 6, 7]            --\n",
      "│    │    └─Conv2d: 3-13                 [2, 128, 6, 7]            147,584\n",
      "│    │    └─BatchNorm2d: 3-14            [2, 128, 6, 7]            256\n",
      "│    │    └─Conv2d: 3-15                 [2, 128, 6, 7]            147,584\n",
      "│    │    └─BatchNorm2d: 3-16            [2, 128, 6, 7]            256\n",
      "│    └─ResBlock: 2-8                     [2, 128, 6, 7]            --\n",
      "│    │    └─Conv2d: 3-17                 [2, 128, 6, 7]            147,584\n",
      "│    │    └─BatchNorm2d: 3-18            [2, 128, 6, 7]            256\n",
      "│    │    └─Conv2d: 3-19                 [2, 128, 6, 7]            147,584\n",
      "│    │    └─BatchNorm2d: 3-20            [2, 128, 6, 7]            256\n",
      "│    └─ResBlock: 2-9                     [2, 128, 6, 7]            --\n",
      "│    │    └─Conv2d: 3-21                 [2, 128, 6, 7]            147,584\n",
      "│    │    └─BatchNorm2d: 3-22            [2, 128, 6, 7]            256\n",
      "│    │    └─Conv2d: 3-23                 [2, 128, 6, 7]            147,584\n",
      "│    │    └─BatchNorm2d: 3-24            [2, 128, 6, 7]            256\n",
      "│    └─ResBlock: 2-10                    [2, 128, 6, 7]            --\n",
      "│    │    └─Conv2d: 3-25                 [2, 128, 6, 7]            147,584\n",
      "│    │    └─BatchNorm2d: 3-26            [2, 128, 6, 7]            256\n",
      "│    │    └─Conv2d: 3-27                 [2, 128, 6, 7]            147,584\n",
      "│    │    └─BatchNorm2d: 3-28            [2, 128, 6, 7]            256\n",
      "│    └─ResBlock: 2-11                    [2, 128, 6, 7]            --\n",
      "│    │    └─Conv2d: 3-29                 [2, 128, 6, 7]            147,584\n",
      "│    │    └─BatchNorm2d: 3-30            [2, 128, 6, 7]            256\n",
      "│    │    └─Conv2d: 3-31                 [2, 128, 6, 7]            147,584\n",
      "│    │    └─BatchNorm2d: 3-32            [2, 128, 6, 7]            256\n",
      "│    └─ResBlock: 2-12                    [2, 128, 6, 7]            --\n",
      "│    │    └─Conv2d: 3-33                 [2, 128, 6, 7]            147,584\n",
      "│    │    └─BatchNorm2d: 3-34            [2, 128, 6, 7]            256\n",
      "│    │    └─Conv2d: 3-35                 [2, 128, 6, 7]            147,584\n",
      "│    │    └─BatchNorm2d: 3-36            [2, 128, 6, 7]            256\n",
      "├─Sequential: 1-3                        [2, 1]                    --\n",
      "│    └─Conv2d: 2-13                      [2, 32, 6, 7]             36,896\n",
      "│    └─BatchNorm2d: 2-14                 [2, 32, 6, 7]             64\n",
      "│    └─ReLU: 2-15                        [2, 32, 6, 7]             --\n",
      "│    └─Flatten: 2-16                     [2, 1344]                 --\n",
      "│    └─Linear: 2-17                      [2, 256]                  344,320\n",
      "│    └─ReLU: 2-18                        [2, 256]                  --\n",
      "│    └─Linear: 2-19                      [2, 1]                    257\n",
      "│    └─Tanh: 2-20                        [2, 1]                    --\n",
      "├─Sequential: 1-4                        [2, 7]                    --\n",
      "│    └─Conv2d: 2-21                      [2, 32, 6, 7]             36,896\n",
      "│    └─BatchNorm2d: 2-22                 [2, 32, 6, 7]             64\n",
      "│    └─ReLU: 2-23                        [2, 32, 6, 7]             --\n",
      "│    └─Flatten: 2-24                     [2, 1344]                 --\n",
      "│    └─Linear: 2-25                      [2, 7]                    9,415\n",
      "==========================================================================================\n",
      "Total params: 3,092,872\n",
      "Trainable params: 3,092,872\n",
      "Non-trainable params: 0\n",
      "Total mult-adds (M): 230.36\n",
      "==========================================================================================\n",
      "Input size (MB): 0.00\n",
      "Forward/backward pass size (MB): 3.36\n",
      "Params size (MB): 12.37\n",
      "Estimated Total Size (MB): 15.73\n",
      "==========================================================================================\n"
     ]
    }
   ],
   "source": [
    "game_c4 = Game_C4()\n",
    "\n",
    "args = {\n",
    "    'board_dim': (game_c4.rows, game_c4.columns), \n",
    "    'n_actions': game_c4.action_size,\n",
    "    'n_res_blocks': 9,\n",
    "    'n_hidden': 128,\n",
    "    'C': 2,\n",
    "    'num_searches': 10,\n",
    "    'n_iters': 2,\n",
    "    'n_selfPlay': 10,\n",
    "    'epochs': 2,\n",
    "    'batch_size': 2,\n",
    "    'temperature': 1.25,\n",
    "    'dirichlet_epsilon': 0.25,\n",
    "    'dirichlet_alpha': 0.03\n",
    "}\n",
    "\n",
    "device = torch.device(\"cuda\" if torch.cuda.is_available() else \"cpu\")\n",
    "model = ResNet_C4(\n",
    "    board_dim=args['board_dim'], \n",
    "    n_actions=args['n_actions'],\n",
    "    n_res=args['n_res_blocks'],\n",
    "    n_hidden=args['n_hidden'],\n",
    "    device=device\n",
    ")\n",
    "optimizer = torch.optim.Adam(model.parameters(), lr=0.001, weight_decay=0.0001)\n",
    "architecture = summary(model, input_size=(args['batch_size'], 3, game_c4.rows, game_c4.columns), verbose=0)\n",
    "print(architecture)"
   ]
  },
  {
   "cell_type": "code",
   "execution_count": null,
   "metadata": {},
   "outputs": [],
   "source": [
    "alphazero = AlphaZero(model, optimizer, game_c4, args)\n",
    "alphazero.learn()"
   ]
  },
  {
   "cell_type": "code",
   "execution_count": 17,
   "metadata": {},
   "outputs": [
    {
     "data": {
      "text/plain": [
       "tensor([[[[0., 0., 0., 0., 0., 0., 0.],\n",
       "          [0., 0., 0., 0., 0., 0., 0.],\n",
       "          [0., 0., 0., 0., 0., 0., 0.],\n",
       "          [0., 0., 0., 0., 0., 0., 0.],\n",
       "          [0., 0., 0., 0., 0., 0., 0.],\n",
       "          [0., 0., 0., 0., 0., 0., 0.]],\n",
       "\n",
       "         [[1., 1., 1., 1., 1., 1., 1.],\n",
       "          [1., 1., 1., 1., 1., 1., 1.],\n",
       "          [1., 1., 1., 1., 1., 1., 1.],\n",
       "          [1., 1., 1., 1., 1., 1., 1.],\n",
       "          [1., 1., 1., 1., 1., 1., 1.],\n",
       "          [1., 1., 1., 1., 1., 1., 1.]],\n",
       "\n",
       "         [[0., 0., 0., 0., 0., 0., 0.],\n",
       "          [0., 0., 0., 0., 0., 0., 0.],\n",
       "          [0., 0., 0., 0., 0., 0., 0.],\n",
       "          [0., 0., 0., 0., 0., 0., 0.],\n",
       "          [0., 0., 0., 0., 0., 0., 0.],\n",
       "          [0., 0., 0., 0., 0., 0., 0.]]]])"
      ]
     },
     "execution_count": 17,
     "metadata": {},
     "output_type": "execute_result"
    }
   ],
   "source": [
    "state = np.array(game_c4.initialize())\n",
    "state = game_c4.get_encoded_state(state)\n",
    "state = torch.tensor(state, dtype=torch.float32, device=device).unsqueeze(0) \n",
    "state"
   ]
  }
 ],
 "metadata": {
  "kernelspec": {
   "display_name": "Python 3",
   "language": "python",
   "name": "python3"
  },
  "language_info": {
   "codemirror_mode": {
    "name": "ipython",
    "version": 3
   },
   "file_extension": ".py",
   "mimetype": "text/x-python",
   "name": "python",
   "nbconvert_exporter": "python",
   "pygments_lexer": "ipython3",
   "version": "3.10.11"
  }
 },
 "nbformat": 4,
 "nbformat_minor": 2
}
